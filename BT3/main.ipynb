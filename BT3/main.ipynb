{
 "cells": [
  {
   "attachments": {},
   "cell_type": "markdown",
   "metadata": {},
   "source": [
    "**Import thư viện**"
   ]
  },
  {
   "cell_type": "code",
   "execution_count": 117,
   "metadata": {},
   "outputs": [],
   "source": [
    "from __future__ import print_function\n",
    "import numpy as np\n",
    "import matplotlib.pyplot as plt\n",
    "import pandas as pd\n",
    "from sklearn.model_selection import train_test_split\n",
    "from sklearn.preprocessing import StandardScaler\n",
    "from sklearn.tree import DecisionTreeClassifier\n",
    "from sklearn.preprocessing import OneHotEncoder\n",
    "from sklearn.metrics import accuracy_score"
   ]
  },
  {
   "attachments": {},
   "cell_type": "markdown",
   "metadata": {},
   "source": [
    "_Việc huấn luyện decision tree dựa trên ID3 cho tập dữ liệu này và đầu ra dự đoán cho training set được cho bởi_"
   ]
  },
  {
   "cell_type": "code",
   "execution_count": 118,
   "metadata": {},
   "outputs": [],
   "source": [
    "df = pd.read_csv('./car.data', header=None)\n",
    "X = df.iloc[:,[0,1,2,3,4,5]].values\n",
    "y = df.iloc[:,6].values\n",
    "\n",
    "X_train, X_test, y_train, y_test =  train_test_split(X,y,test_size = 0.25, random_state= 0)"
   ]
  },
  {
   "attachments": {},
   "cell_type": "markdown",
   "metadata": {},
   "source": [
    "**Perform feature scaling**"
   ]
  },
  {
   "cell_type": "code",
   "execution_count": 119,
   "metadata": {},
   "outputs": [
    {
     "name": "stdout",
     "output_type": "stream",
     "text": [
      "  (0, 1)\t1.0\n",
      "  (0, 7)\t1.0\n",
      "  (0, 8)\t1.0\n",
      "  (0, 14)\t1.0\n",
      "  (0, 16)\t1.0\n",
      "  (0, 20)\t1.0\n",
      "  (1, 3)\t1.0\n",
      "  (1, 4)\t1.0\n",
      "  (1, 8)\t1.0\n",
      "  (1, 13)\t1.0\n",
      "  (1, 15)\t1.0\n",
      "  (1, 20)\t1.0\n",
      "  (2, 0)\t1.0\n",
      "  (2, 6)\t1.0\n",
      "  (2, 8)\t1.0\n",
      "  (2, 12)\t1.0\n",
      "  (2, 17)\t1.0\n",
      "  (2, 19)\t1.0\n",
      "  (3, 3)\t1.0\n",
      "  (3, 6)\t1.0\n",
      "  (3, 9)\t1.0\n",
      "  (3, 12)\t1.0\n",
      "  (3, 15)\t1.0\n",
      "  (3, 19)\t1.0\n",
      "  (4, 1)\t1.0\n",
      "  :\t:\n",
      "  (427, 19)\t1.0\n",
      "  (428, 0)\t1.0\n",
      "  (428, 5)\t1.0\n",
      "  (428, 10)\t1.0\n",
      "  (428, 12)\t1.0\n",
      "  (428, 16)\t1.0\n",
      "  (428, 20)\t1.0\n",
      "  (429, 0)\t1.0\n",
      "  (429, 6)\t1.0\n",
      "  (429, 11)\t1.0\n",
      "  (429, 14)\t1.0\n",
      "  (429, 16)\t1.0\n",
      "  (429, 18)\t1.0\n",
      "  (430, 0)\t1.0\n",
      "  (430, 6)\t1.0\n",
      "  (430, 11)\t1.0\n",
      "  (430, 13)\t1.0\n",
      "  (430, 15)\t1.0\n",
      "  (430, 19)\t1.0\n",
      "  (431, 2)\t1.0\n",
      "  (431, 4)\t1.0\n",
      "  (431, 11)\t1.0\n",
      "  (431, 13)\t1.0\n",
      "  (431, 15)\t1.0\n",
      "  (431, 18)\t1.0   (0, 0)\t1.0\n",
      "  (0, 7)\t1.0\n",
      "  (0, 11)\t1.0\n",
      "  (0, 12)\t1.0\n",
      "  (0, 15)\t1.0\n",
      "  (0, 20)\t1.0\n",
      "  (1, 0)\t1.0\n",
      "  (1, 4)\t1.0\n",
      "  (1, 11)\t1.0\n",
      "  (1, 12)\t1.0\n",
      "  (1, 17)\t1.0\n",
      "  (1, 19)\t1.0\n",
      "  (2, 2)\t1.0\n",
      "  (2, 4)\t1.0\n",
      "  (2, 9)\t1.0\n",
      "  (2, 14)\t1.0\n",
      "  (2, 17)\t1.0\n",
      "  (2, 19)\t1.0\n",
      "  (3, 2)\t1.0\n",
      "  (3, 5)\t1.0\n",
      "  (3, 11)\t1.0\n",
      "  (3, 12)\t1.0\n",
      "  (3, 16)\t1.0\n",
      "  (3, 20)\t1.0\n",
      "  (4, 2)\t1.0\n",
      "  :\t:\n",
      "  (1291, 20)\t1.0\n",
      "  (1292, 2)\t1.0\n",
      "  (1292, 5)\t1.0\n",
      "  (1292, 9)\t1.0\n",
      "  (1292, 12)\t1.0\n",
      "  (1292, 17)\t1.0\n",
      "  (1292, 20)\t1.0\n",
      "  (1293, 1)\t1.0\n",
      "  (1293, 5)\t1.0\n",
      "  (1293, 9)\t1.0\n",
      "  (1293, 12)\t1.0\n",
      "  (1293, 15)\t1.0\n",
      "  (1293, 19)\t1.0\n",
      "  (1294, 0)\t1.0\n",
      "  (1294, 4)\t1.0\n",
      "  (1294, 8)\t1.0\n",
      "  (1294, 14)\t1.0\n",
      "  (1294, 17)\t1.0\n",
      "  (1294, 20)\t1.0\n",
      "  (1295, 0)\t1.0\n",
      "  (1295, 6)\t1.0\n",
      "  (1295, 9)\t1.0\n",
      "  (1295, 13)\t1.0\n",
      "  (1295, 17)\t1.0\n",
      "  (1295, 19)\t1.0\n"
     ]
    }
   ],
   "source": [
    "enc = OneHotEncoder(handle_unknown='ignore')\n",
    "X_train = enc.fit_transform(X_train)\n",
    "X_test = enc.transform(X_test)"
   ]
  },
  {
   "attachments": {},
   "cell_type": "markdown",
   "metadata": {},
   "source": [
    "**Train mô hình sử dụng Decision Tree classifier của thư viện sklearn**"
   ]
  },
  {
   "cell_type": "code",
   "execution_count": 120,
   "metadata": {},
   "outputs": [],
   "source": [
    "classifier = DecisionTreeClassifier()\n",
    "classifier = classifier.fit(X_train,y_train)"
   ]
  },
  {
   "attachments": {},
   "cell_type": "markdown",
   "metadata": {},
   "source": [
    "**Dự đoán và kiểm tra độ chính xác**"
   ]
  },
  {
   "cell_type": "code",
   "execution_count": 121,
   "metadata": {},
   "outputs": [
    {
     "name": "stdout",
     "output_type": "stream",
     "text": [
      "Accuracy Score: 0.9513888888888888\n"
     ]
    }
   ],
   "source": [
    "y_pred = classifier.predict(X_test) #Accuracy\n",
    "print('Accuracy Score:', accuracy_score(y_test,y_pred))"
   ]
  }
 ],
 "metadata": {
  "kernelspec": {
   "display_name": "Python 3",
   "language": "python",
   "name": "python3"
  },
  "language_info": {
   "codemirror_mode": {
    "name": "ipython",
    "version": 3
   },
   "file_extension": ".py",
   "mimetype": "text/x-python",
   "name": "python",
   "nbconvert_exporter": "python",
   "pygments_lexer": "ipython3",
   "version": "3.9.0"
  },
  "orig_nbformat": 4,
  "vscode": {
   "interpreter": {
    "hash": "c081257499a92776a7ff5343ee4d85420a7950a6ae97b0cb2aee7a7ddd41b7f2"
   }
  }
 },
 "nbformat": 4,
 "nbformat_minor": 2
}
